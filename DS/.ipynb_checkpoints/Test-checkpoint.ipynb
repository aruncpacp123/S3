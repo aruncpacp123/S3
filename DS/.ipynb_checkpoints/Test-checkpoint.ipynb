{
 "cells": [
  {
   "cell_type": "markdown",
   "id": "6ac7be75-80c8-4084-893e-1f1d00c404b4",
   "metadata": {},
   "source": [
    "1. numpy array,shape,reshape"
   ]
  },
  {
   "cell_type": "raw",
   "id": "1fe3a56a-5878-4d25-8d9e-35f0e3eb9db9",
   "metadata": {},
   "source": [
    "import numpy as np\n",
    "a=np.array([1,2,3])\n",
    "print(a)\n",
    "b=np.array([[1,2,3,4],[5,6,7,8]])\n",
    "print(b)\n",
    "print(a.shape)\n",
    "print(b.shape)\n",
    "c=b.reshape(4,2)\n",
    "print(c)\n",
    "print(c.shape)\n",
    "b.shape=1,8\n",
    "print(b)\n",
    "print(b.shape)"
   ]
  },
  {
   "cell_type": "markdown",
   "id": "46c9be07-0758-4326-8ea0-68b294b45ead",
   "metadata": {},
   "source": [
    "2. Array using arange"
   ]
  },
  {
   "cell_type": "code",
   "execution_count": 15,
   "id": "b5f0c9ea-2548-4bac-b971-d07ae127113d",
   "metadata": {},
   "outputs": [
    {
     "name": "stdout",
     "output_type": "stream",
     "text": [
      "[0 1 2 3 4 5 6 7 8 9]\n",
      "[ 1.  3.  5.  7.  9. 11. 13. 15. 17. 19. 21. 23.]\n"
     ]
    }
   ],
   "source": [
    "import numpy as np\n",
    "x=np.arange(10)\n",
    "print(x)\n",
    "\n",
    "y=np.arange(1,24,2,dtype=float)\n",
    "print(y)"
   ]
  },
  {
   "cell_type": "markdown",
   "id": "a4285af1-c91f-4de8-bd75-298a57f53f76",
   "metadata": {},
   "source": [
    "3. Array Comparison using numpy Functions"
   ]
  },
  {
   "cell_type": "code",
   "execution_count": 8,
   "id": "116b3fe6-dbe6-4893-a6ed-bd0e1da7482f",
   "metadata": {},
   "outputs": [
    {
     "name": "stdout",
     "output_type": "stream",
     "text": [
      "First Array: [ 6 12 18 24 30 36 42 48 54]\n",
      "Second Array: [ 3  6  9 12 15 18 21 24 27]\n",
      "x>y\n",
      "[ True  True  True  True  True  True  True  True  True]\n",
      "x>= y\n",
      "[ True  True  True  True  True  True  True  True  True]\n",
      "x< y\n",
      "[False False False False False False False False False]\n",
      "x<= y\n",
      "[False False False False False False False False False]\n",
      "x=y\n",
      "[False False False False False False False False False]\n"
     ]
    }
   ],
   "source": [
    "import numpy as np\n",
    "x=np.arange(6,60,6)\n",
    "y=np.arange(3,30,3)\n",
    "print(\"First Array:\",x)\n",
    "print(\"Second Array:\",y)\n",
    "\n",
    "print(\"x>y\")\n",
    "print(np.greater(x,y))\n",
    "\n",
    "print(\"x>=y\")\n",
    "print(np.greater_equal(x, y))\n",
    " \n",
    "print(\"x<y\")\n",
    "print(np.less(x, y))\n",
    " \n",
    "print(\"x<=y\")\n",
    "print(np.less_equal(x, y))\n",
    "\n",
    "print(\"x=y\")\n",
    "print(np.equal(x,y))"
   ]
  },
  {
   "cell_type": "markdown",
   "id": "b96ba53f-563f-4a8c-bfa9-7ba018552558",
   "metadata": {},
   "source": [
    "4. Create an array of even numbers between 50 and 90"
   ]
  },
  {
   "cell_type": "code",
   "execution_count": 10,
   "id": "57e5ccf5-b4c0-4f2a-bd02-3e96378aca50",
   "metadata": {},
   "outputs": [
    {
     "name": "stdout",
     "output_type": "stream",
     "text": [
      "Even Numbers: [50 52 54 56 58 60 62 64 66 68 70 72 74 76 78 80 82 84 86 88]\n"
     ]
    }
   ],
   "source": [
    "import numpy as np\n",
    "x=np.arange(50,90,2)\n",
    "print(\"Even Numbers:\",x)"
   ]
  },
  {
   "cell_type": "markdown",
   "id": "f3a59a5f-7301-488a-a2da-aa4668d3138e",
   "metadata": {},
   "source": [
    "5. To create a 4 * 4 identity matrix"
   ]
  },
  {
   "cell_type": "code",
   "execution_count": 12,
   "id": "6f0df3f4-c735-4ca1-836b-4f549df15a1b",
   "metadata": {},
   "outputs": [
    {
     "name": "stdout",
     "output_type": "stream",
     "text": [
      "[[1 0 0 0]\n",
      " [0 1 0 0]\n",
      " [0 0 1 0]\n",
      " [0 0 0 1]]\n"
     ]
    }
   ],
   "source": [
    "import numpy as np\n",
    "a=np.identity(4,int)\n",
    "print(a)"
   ]
  },
  {
   "cell_type": "markdown",
   "id": "c500ff45-0fa1-47cc-b840-9a3fcaf5f774",
   "metadata": {},
   "source": [
    "6. Create a 5*5 zero matrix with elements on the main diagonal 1,2,3,4,5"
   ]
  },
  {
   "cell_type": "code",
   "execution_count": 14,
   "id": "d81921fc-f2ec-4485-bf0e-7952909ec75d",
   "metadata": {},
   "outputs": [
    {
     "name": "stdout",
     "output_type": "stream",
     "text": [
      "[[1 0 0 0 0]\n",
      " [0 2 0 0 0]\n",
      " [0 0 3 0 0]\n",
      " [0 0 0 4 0]\n",
      " [0 0 0 0 5]]\n"
     ]
    }
   ],
   "source": [
    "import numpy as np\n",
    "a=np.diag([1,2,3,4,5])\n",
    "print(a)"
   ]
  },
  {
   "cell_type": "code",
   "execution_count": null,
   "id": "928edeff-bf77-49d6-9fa1-002109f92c12",
   "metadata": {},
   "outputs": [],
   "source": []
  }
 ],
 "metadata": {
  "kernelspec": {
   "display_name": "Python 3 (ipykernel)",
   "language": "python",
   "name": "python3"
  },
  "language_info": {
   "codemirror_mode": {
    "name": "ipython",
    "version": 3
   },
   "file_extension": ".py",
   "mimetype": "text/x-python",
   "name": "python",
   "nbconvert_exporter": "python",
   "pygments_lexer": "ipython3",
   "version": "3.12.4"
  }
 },
 "nbformat": 4,
 "nbformat_minor": 5
}
